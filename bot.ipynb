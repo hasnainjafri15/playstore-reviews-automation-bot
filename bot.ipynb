{
 "cells": [
  {
   "cell_type": "code",
   "execution_count": 22,
   "metadata": {},
   "outputs": [],
   "source": [
    "from ast import Break, Return\n",
    "from functools import total_ordering\n",
    "from gettext import install\n",
    "import re\n",
    "from webbrowser import Chrome\n",
    "import selenium\n",
    "from selenium import webdriver\n",
    "from selenium.webdriver.common.keys import Keys\n",
    "import time\n",
    "import pandas as pd\n",
    "import numpy as np\n",
    "from selenium.webdriver.common.action_chains import ActionChains\n"
   ]
  },
  {
   "cell_type": "code",
   "execution_count": null,
   "metadata": {},
   "outputs": [],
   "source": [
    "\n"
   ]
  },
  {
   "cell_type": "code",
   "execution_count": 23,
   "metadata": {},
   "outputs": [
    {
     "name": "stderr",
     "output_type": "stream",
     "text": [
      "C:\\Users\\Lenovo\\AppData\\Local\\Temp\\ipykernel_19140\\1818416603.py:2: DeprecationWarning: executable_path has been deprecated, please pass in a Service object\n",
      "  driver = webdriver.Chrome(PATH)\n",
      "C:\\Users\\Lenovo\\AppData\\Local\\Temp\\ipykernel_19140\\1818416603.py:17: DeprecationWarning: find_element_by_* commands are deprecated. Please use find_element() instead\n",
      "  app_link = driver.find_element_by_xpath('/html/body/div[1]/div[4]/c-wiz/div/div[2]/c-wiz/c-wiz/c-wiz/div/div[2]/div[{}]/c-wiz/div/div/div[2]/div/div/div[1]/div/div/div[1]/a/div'.format(x))\n",
      "C:\\Users\\Lenovo\\AppData\\Local\\Temp\\ipykernel_19140\\1818416603.py:36: DeprecationWarning: find_element_by_* commands are deprecated. Please use find_element() instead\n",
      "  reviews = driver.find_element_by_xpath(\n"
     ]
    }
   ],
   "source": [
    "PATH = \"C:\\Program Files (x86)\\chromedriver.exe\"\n",
    "driver = webdriver.Chrome(PATH)\n",
    "\n",
    "driver.get(\"https://play.google.com/store/apps/developer?id=Blink+Co.\")\n",
    "\n",
    "time.sleep(22)\n",
    "\n",
    "#reviews_list = []\n",
    "\n",
    "df_price = pd.DataFrame()\n",
    "\n",
    "x = 0\n",
    "while x in range(20):\n",
    "    reviews_list = []\n",
    "    x = x + 1\n",
    "    try:\n",
    "        app_link = driver.find_element_by_xpath('/html/body/div[1]/div[4]/c-wiz/div/div[2]/c-wiz/c-wiz/c-wiz/div/div[2]/div[{}]/c-wiz/div/div/div[2]/div/div/div[1]/div/div/div[1]/a/div'.format(x))\n",
    "        app_link.click()\n",
    "    except:\n",
    "     pass\n",
    "\n",
    "    time.sleep(2)\n",
    "\n",
    "    #name = driver.find_element_by_class_name('AHFaub').text\n",
    "\n",
    "    list = [2,3,4,5,6]\n",
    "\n",
    "    \n",
    "    for y in list:\n",
    "            #y = y + 1\n",
    "            #print(x)\n",
    "            #time.sleep(2)\n",
    "            #print(y)\n",
    "            #driver.execute_script(\"window.scrollBy(0,3000)\", \"\")\n",
    "            try:\n",
    "                reviews = driver.find_element_by_xpath(\n",
    "                '/html/body/div[1]/div[4]/c-wiz[2]/div/div[2]/div/div/main/div/div[1]/div[{}]/div/div[2]/div[2]/span[1]'.format(y)).text\n",
    "                reviews_list.append(reviews)\n",
    "            except:\n",
    "                reviews_list.append('N/A')\n",
    "            \n",
    "    driver.back()\n",
    "    time.sleep(2)\n",
    "\n",
    "    df_price[x] = pd.DataFrame(reviews_list)\n",
    "    #df_price['sentiment'] = pd.DataFrame()\n",
    "\n",
    "\n",
    "driver.quit()\n",
    "\n",
    "            #"
   ]
  },
  {
   "cell_type": "code",
   "execution_count": 24,
   "metadata": {},
   "outputs": [],
   "source": [
    "df_price()"
   ]
  },
  {
   "cell_type": "code",
   "execution_count": 336,
   "metadata": {},
   "outputs": [],
   "source": []
  },
  {
   "cell_type": "code",
   "execution_count": null,
   "metadata": {},
   "outputs": [],
   "source": []
  }
 ],
 "metadata": {
  "interpreter": {
   "hash": "0d243b50575b622ba23b9a21ff96cb02be80831e0737edde549ab463f4defc42"
  },
  "kernelspec": {
   "display_name": "Python 3.8.10 64-bit (windows store)",
   "language": "python",
   "name": "python3"
  },
  "language_info": {
   "codemirror_mode": {
    "name": "ipython",
    "version": 3
   },
   "file_extension": ".py",
   "mimetype": "text/x-python",
   "name": "python",
   "nbconvert_exporter": "python",
   "pygments_lexer": "ipython3",
   "version": "3.8.10"
  },
  "orig_nbformat": 4
 },
 "nbformat": 4,
 "nbformat_minor": 2
}
