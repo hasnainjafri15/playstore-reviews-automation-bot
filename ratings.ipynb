{
 "cells": [
  {
   "cell_type": "code",
   "execution_count": null,
   "metadata": {},
   "outputs": [],
   "source": [
    "import selenium\n",
    "from ast import Break, Return\n",
    "from functools import total_ordering\n",
    "from gettext import install\n",
    "import re\n",
    "from webbrowser import Chrome\n",
    "from selenium import webdriver\n",
    "from selenium.webdriver.common.keys import Keys\n",
    "import time\n",
    "import pandas as pd\n",
    "import numpy as np\n",
    "from selenium.webdriver.common.action_chains import ActionChains\n"
   ]
  },
  {
   "cell_type": "code",
   "execution_count": null,
   "metadata": {},
   "outputs": [],
   "source": [
    "PATH = \"C:\\Program Files (x86)\\chromedriver.exe\"\n",
    "driver = webdriver.Chrome(PATH)\n",
    "\n",
    "driver.get(\"https://play.google.com/store/apps/developer?id=Blink+Co.\")\n",
    "\n",
    "driver.maximize_window()\n",
    "\n",
    "\n",
    "none = []\n",
    "\n",
    "ratings_list = []\n",
    "last_updated_list = []\n",
    "installs_list = []\n",
    "tittle_lists = []\n",
    "\n",
    "x = 0\n",
    "while x in range(40):\n",
    "    x = x + 1\n",
    "    try:\n",
    "        app_link = driver.find_element_by_xpath('/html/body/div[1]/div[4]/c-wiz/div/div[2]/c-wiz/c-wiz/c-wiz/div/div[2]/div[{}]/c-wiz/div/div/div[2]/div/div/div[1]/div/div/div[1]/a/div'.format(x))\n",
    "        time.sleep(2)\n",
    "        app_link.click()\n",
    "    except:\n",
    "        pass\n",
    "\n",
    "    time.sleep(5)\n",
    "\n",
    "    try:\n",
    "        tittle = driver.find_element_by_class_name('AHFaub').text\n",
    "        tittle_lists.append(tittle)\n",
    "    except:\n",
    "        tittle_lists.append(\"N/A\")\n",
    "\n",
    "\n",
    "    try:\n",
    "        installs = driver.find_element_by_xpath(\"/html/body/div[1]/div[4]/c-wiz[2]/div/div[2]/div/div/main/c-wiz[3]/div[1]/div[2]/div/div[3]/span/div/span\").text\n",
    "        installs_list.append(installs)\n",
    "    except:\n",
    "        installs_list.append(\"N/A\")\n",
    "\n",
    "    try:\n",
    "        ratings = driver.find_element_by_class_name('BHMmbe').text\n",
    "        ratings_list.append(ratings)\n",
    "    except:\n",
    "        ratings_list.append(\"N/A\")\n",
    "\n",
    "    try:\n",
    "        last_updated=driver.find_element_by_xpath(\"/html/body/div[1]/div[4]/c-wiz[2]/div/div[2]/div/div/main/c-wiz[3]/div[1]/div[2]/div/div[1]/span/div/span\").text\n",
    "        last_updated_list.append(last_updated)\n",
    "    except:\n",
    "        last_updated_list.append(\"N/A\")\n",
    "\n",
    "    driver.back()\n",
    "\n",
    "driver.quit()\n"
   ]
  },
  {
   "cell_type": "code",
   "execution_count": null,
   "metadata": {},
   "outputs": [],
   "source": [
    "ratings_df = pd.DataFrame()\n",
    "ratings_df = pd.DataFrame({\"App Name\": tittle_lists,\"ratings\": ratings_list, \"last updated\": last_updated_list, \"installs\": installs_list})\n"
   ]
  },
  {
   "cell_type": "code",
   "execution_count": null,
   "metadata": {},
   "outputs": [],
   "source": [
    "ratings_df"
   ]
  },
  {
   "cell_type": "code",
   "execution_count": null,
   "metadata": {},
   "outputs": [],
   "source": [
    "ratings_df.to_csv(\"ratings_output.csv\")\n"
   ]
  }
 ],
 "metadata": {
  "interpreter": {
   "hash": "49e3b2259e78df9cfdab8a0147e70af135d67b84d369900a8e7b867539ba6049"
  },
  "kernelspec": {
   "display_name": "Python 3.7.4 64-bit ('base': conda)",
   "language": "python",
   "name": "python3"
  },
  "language_info": {
   "codemirror_mode": {
    "name": "ipython",
    "version": 3
   },
   "file_extension": ".py",
   "mimetype": "text/x-python",
   "name": "python",
   "nbconvert_exporter": "python",
   "pygments_lexer": "ipython3",
   "version": "3.8.10"
  },
  "orig_nbformat": 4
 },
 "nbformat": 4,
 "nbformat_minor": 2
}
